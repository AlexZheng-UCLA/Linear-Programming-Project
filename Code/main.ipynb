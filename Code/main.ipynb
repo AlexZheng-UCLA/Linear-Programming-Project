{
 "cells": [
  {
   "cell_type": "code",
   "execution_count": 1,
   "metadata": {},
   "outputs": [],
   "source": [
    "from utils import prepare_data_gaussian, prepare_data_news, plot_result\n",
    "from MyRegressor import MyRegressor"
   ]
  },
  {
   "cell_type": "code",
   "execution_count": 2,
   "metadata": {},
   "outputs": [],
   "source": [
    "## Create dictionaries to store experiments results (will be used for plots)\n",
    "result_1_2 = {'taskID':'1-2', 'alpha':[], 'train_err':[], 'test_err':[]}\n",
    "result_1_3 = {'taskID':'1-3', 'feat_num':[], 'train_err':[], 'test_err':[]}\n",
    "result_1_4 = {'taskID':'1-4', 'sample_num':[], 'train_err':[], 'test_err':[]}\n",
    "result_1_5 = {'taskID':'1-5', 'cost':[], 'train_err':[], 'test_err':[]}\n",
    "result_2 = {'taskID':'2', 'cost':[], 'train_err':[], 'test_err':[]}"
   ]
  },
  {
   "cell_type": "code",
   "execution_count": 4,
   "metadata": {},
   "outputs": [],
   "source": [
    "## dataset \n",
    "data_gauss = prepare_data_gaussian() \n",
    "data_news = prepare_data_news()"
   ]
  },
  {
   "cell_type": "code",
   "execution_count": null,
   "metadata": {},
   "outputs": [],
   "source": [
    "## Task 1-2 Gaussian \n",
    "for alpha in [1e-5, 1e-4, 1e-3, 1e-2, 1e-1, 1, 10]:\n",
    "\n",
    "    model = MyRegressor(alpha=alpha)\n",
    "\n",
    "    train_err = model.train(data_gauss['trainX'], data_gauss['trainY'])\n",
    "    _, test_err = model.evaluate(data_gauss['testX'], data_gauss['testY'])\n",
    "\n",
    "    result_1_2['alpha'].append(alpha)\n",
    "    result_1_2['train_err'].append(train_err)\n",
    "    result_1_2['test_err'].append(test_err)\n",
    "\n",
    "plot_result(result_1_2)\n"
   ]
  },
  {
   "cell_type": "code",
   "execution_count": null,
   "metadata": {},
   "outputs": [],
   "source": [
    "## Task 1-2 News\n",
    "for alpha in [1e-5, 1e-4, 1e-3, 1e-2, 1e-1, 1, 10]:\n",
    "\n",
    "    model = MyRegressor(alpha=alpha)\n",
    "\n",
    "    train_err = model.train(data_news['trainX'], data_news['trainY'])\n",
    "    _, test_err = model.evaluate(data_news['testX'], data_news['testY'])\n",
    "\n",
    "    result_1_2['alpha'].append(alpha)\n",
    "    result_1_2['train_err'].append(train_err)\n",
    "    result_1_2['test_err'].append(test_err)\n",
    "\n",
    "plot_result(result_1_2)"
   ]
  },
  {
   "cell_type": "code",
   "execution_count": null,
   "metadata": {},
   "outputs": [],
   "source": [
    "## Task 1-3 Gaussian \n",
    "# old_regressor = MyRegressor(alpha=opt_alpha)\n",
    "# old_regressor.train(trainX, trainY)\n",
    "# feat = old_regressor.select_features()\n",
    "\n",
    "# regressor = MyRegressor(alpha=0)\n",
    "# feat_num = []\n",
    "# train_error = []\n",
    "# test_error = []\n",
    "\n",
    "# for per in [0.01, 0.1, 0.3, 0.5, 1]:\n",
    "\n",
    "#     feat_num.append(per)\n",
    "#     num = int(len(feat)*per)\n",
    "#     selected_feat = feat[:num]\n",
    "\n",
    "#     trainX_s = trainX[:, selected_feat]\n",
    "#     testX_s = testX[:, selected_feat]\n",
    "#     error = regressor.train(trainX_s, trainY)\n",
    "#     train_error.append(error)\n",
    "\n",
    "#     _, error = regressor.evaluate(testX_s, testY)\n",
    "#     test_error.append(error)\n",
    "\n",
    "# print(f\"feature num: {feat_num}\")\n",
    "# print(f\"train_error: {train_error}\")\n",
    "# print(f\"test_error: {test_error}\")\n",
    "# plot_result({'taskID':'1-3', 'feat_num':feat_num, 'train_err':train_error, 'test_err':test_error})"
   ]
  }
 ],
 "metadata": {
  "kernelspec": {
   "display_name": "Python 3.7.6 ('tensorflow')",
   "language": "python",
   "name": "python3"
  },
  "language_info": {
   "codemirror_mode": {
    "name": "ipython",
    "version": 3
   },
   "file_extension": ".py",
   "mimetype": "text/x-python",
   "name": "python",
   "nbconvert_exporter": "python",
   "pygments_lexer": "ipython3",
   "version": "3.7.6"
  },
  "orig_nbformat": 4,
  "vscode": {
   "interpreter": {
    "hash": "a32340b0c0b0183422a3f86b7fa5068c626c3ed6d7726e4eba3c7918bea45c7c"
   }
  }
 },
 "nbformat": 4,
 "nbformat_minor": 2
}
